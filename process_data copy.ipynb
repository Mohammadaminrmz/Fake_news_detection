{
 "cells": [
  {
   "cell_type": "code",
   "execution_count": 15,
   "metadata": {},
   "outputs": [],
   "source": [
    "import pandas as pd\n",
    "import numpy as np\n",
    "import nltk\n",
    "from nltk.corpus import stopwords\n",
    "from nltk.tokenize import word_tokenize\n",
    "from string import punctuation\n",
    "from nltk.stem.snowball import SnowballStemmer\n",
    "import re"
   ]
  },
  {
   "cell_type": "code",
   "execution_count": 49,
   "metadata": {},
   "outputs": [],
   "source": [
    "pattern1 = r\"\\d{2}-\\d{2}-\\d{4}\"\n",
    "pattern2 = r\"(?:wed(?:nesday)?|sun(?:day)?|fri(?:day)?|sat(?:urday)?|mon(?:day)?|tues(?:day)?|thurs(?:day)?)? ?\\d{2}? ?(?:jan(?:uary)?|feb(?:ruary)?|mar(?:ch)?|apr(?:il)?|may|jun(?:e)?|jul(?:y)?|aug(?:ust)?|sep(?:tember)?|oct(?:ober)?|nov(?:ember)?|dec(?:ember)?)? ?\\d{4}?\"\n",
    "pattern3 = r\"(?:jan(?:uary)?|feb(?:ruary)?|mar(?:ch)?|apr(?:il)?|may|jun(?:e)?|jul(?:y)?|aug(?:ust)?|sep(?:tember)?|oct(?:ober)?|nov(?:ember)?|dec(?:ember)?)\\s+(\\d{1,2})\\s+(\\d{4})\"\n",
    "pattern4 = r\"\\d{1,2}\\s(?:jan(?:uary)?|feb(?:ruary)?|mar(?:ch)?|apr(?:il)?|may|jun(?:e)?|jul(?:y)?|aug(?:ust)?|sep(?:tember)?|oct(?:ober)?|nov(?:ember)?|dec(?:ember)?)\\s\\d{4}\"\n",
    "pattern5 = r\"(?:published|date publication|posted|last updated|wed(?:nesday)|sun(?:day)|fri(?:day)|sat(?:urday)|mon(?:day)|tues(?:day)|thurs(?:day)|jan(?:uary)?|feb(?:ruary)?|mar(?:ch)?|apr(?:il)?|may|jun(?:e)?|jul(?:y)?|aug(?:ust)?|sep(?:tember)?|oct(?:ober)?|nov(?:ember)?|dec(?:ember))\"\n",
    "pattern6 = r\"\\d{2}:\\d{2}\"\n",
    "repl = \"\"\n",
    "\n",
    "patterns = [pattern1,pattern2,pattern3,pattern4,pattern5,pattern6]\n",
    "def clean_stem(sentence,patterns,repl):\n",
    "    tokenized = word_tokenize(sentence)\n",
    "    sentence = \" \".join([word.lower() for word in tokenized if (word.lower() not in stopwords.words(\"english\")) and (word not in punctuation)])\n",
    "    for pattern in patterns:\n",
    "        sentence = re.sub( pattern= pattern,repl=repl,string = sentence)\n",
    "    \n",
    "    return sentence.strip()\n",
    "\n",
    "\n"
   ]
  },
  {
   "cell_type": "code",
   "execution_count": 50,
   "metadata": {},
   "outputs": [],
   "source": [
    "df = pd.read_csv(\"FA-KES-Dataset.csv\")"
   ]
  },
  {
   "cell_type": "code",
   "execution_count": 52,
   "metadata": {},
   "outputs": [],
   "source": [
    "df[\"processed\"] = df[\"article_content\"].apply(lambda x : clean_stem(x,patterns=patterns ,repl=\"\"))\n"
   ]
  },
  {
   "cell_type": "code",
   "execution_count": 54,
   "metadata": {},
   "outputs": [],
   "source": [
    "df[[\"processed\" , \"labels\"]].to_csv(\"processed_regex_no_stem.csv\",index = False)"
   ]
  },
  {
   "cell_type": "code",
   "execution_count": null,
   "metadata": {},
   "outputs": [],
   "source": []
  }
 ],
 "metadata": {
  "kernelspec": {
   "display_name": "base",
   "language": "python",
   "name": "python3"
  },
  "language_info": {
   "codemirror_mode": {
    "name": "ipython",
    "version": 3
   },
   "file_extension": ".py",
   "mimetype": "text/x-python",
   "name": "python",
   "nbconvert_exporter": "python",
   "pygments_lexer": "ipython3",
   "version": "3.9.7"
  },
  "orig_nbformat": 4,
  "vscode": {
   "interpreter": {
    "hash": "7287290b0480c475e07faa8d8f2642b950c35b54c7904c27a4cb3f03b8542e7d"
   }
  }
 },
 "nbformat": 4,
 "nbformat_minor": 2
}
